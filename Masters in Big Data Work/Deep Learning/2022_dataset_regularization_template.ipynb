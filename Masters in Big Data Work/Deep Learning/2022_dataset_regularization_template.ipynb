{
 "cells": [
  {
   "cell_type": "code",
   "execution_count": 1,
   "metadata": {
    "id": "NQS1XrXQqS7a"
   },
   "outputs": [],
   "source": [
    "import matplotlib.pyplot as plt\n",
    "import tensorflow as tf\n",
    "from sklearn import datasets\n",
    "from tensorflow import keras\n",
    "from tensorflow.keras import layers\n",
    "from mlxtend.plotting import plot_decision_regions\n",
    "from tensorflow.keras import regularizers"
   ]
  },
  {
   "cell_type": "code",
   "execution_count": 2,
   "metadata": {
    "colab": {
     "base_uri": "https://localhost:8080/",
     "height": 282
    },
    "id": "DLwftpVNqOjb",
    "outputId": "88e30f9f-f107-4853-ecef-9588c11d25c4"
   },
   "outputs": [
    {
     "data": {
      "text/plain": [
       "<matplotlib.collections.PathCollection at 0x208f73a7dc0>"
      ]
     },
     "execution_count": 2,
     "metadata": {},
     "output_type": "execute_result"
    },
    {
     "data": {
      "image/png": "[encoded data removed]",
      "text/plain": [
       "<Figure size 640x480 with 1 Axes>"
      ]
     },
     "metadata": {},
     "output_type": "display_data"
    }
   ],
   "source": [
    "centers = ([0, 0], [1, 1])\n",
    "X_train, y_train = datasets.make_blobs(n_samples=80, centers = centers, cluster_std=0.7)\n",
    "X_test, y_test = datasets.make_blobs(n_samples=80, centers = centers, cluster_std=0.7)\n",
    "# Plotting\n",
    "plt.scatter(X_train[:, 0], X_train[:, 1], c=y_train, cmap=plt.cm.Paired)"
   ]
  },
  {
   "cell_type": "raw",
   "metadata": {
    "id": "MBHjsd03qSL5"
   },
   "source": [
    "regularized_nn = tf.keras.Sequential([\n",
    "    layers.Input(shape=(2, ), name=\"input\"),                                         \n",
    "    layers.Dense(units=10, activation=\"relu\"),\n",
    "    layers.Dense(units=10, activation=\"relu\"),\n",
    "    layers.Dense(units=1, activation=\"sigmoid\", name=\"output\")\n",
    "])"
   ]
  },
  {
   "cell_type": "code",
   "execution_count": 3,
   "metadata": {},
   "outputs": [],
   "source": [
    "regularized_nn = tf.keras.Sequential([\n",
    "    layers.Input(shape=(2, ), name=\"input\"),\n",
    "    layers.Dense(units=10, activation=\"relu\",\n",
    "                    kernel_regularizer=regularizers.L2(l2=1e-4),\n",
    "                    activity_regularizer=regularizers.L2(1e-5),\n",
    "                    bias_regularizer=regularizers.L2(1e-4)\n",
    "                ),\n",
    "    layers.Dropout(.2),\n",
    "    layers.Dense(units=10, activation=\"relu\",\n",
    "                    kernel_regularizer=regularizers.L2(l2=1e-4),\n",
    "                    activity_regularizer=regularizers.L2(1e-5),\n",
    "                    bias_regularizer=regularizers.L2(1e-4)\n",
    "                ),\n",
    "    layers.Dense(units=1, activation=\"sigmoid\", name=\"output\")])"
   ]
  },
  {
   "cell_type": "code",
   "execution_count": 4,
   "metadata": {
    "colab": {
     "base_uri": "https://localhost:8080/"
    },
    "id": "Hx8lB49UnoJu",
    "outputId": "e694792d-502c-4a06-e9b3-f392cb761288"
   },
   "outputs": [
    {
     "name": "stdout",
     "output_type": "stream",
     "text": [
      "Model: \"sequential\"\n",
      "_________________________________________________________________\n",
      " Layer (type)                Output Shape              Param #   \n",
      "=================================================================\n",
      " dense (Dense)               (None, 10)                30        \n",
      "                                                                 \n",
      " dropout (Dropout)           (None, 10)                0         \n",
      "                                                                 \n",
      " dense_1 (Dense)             (None, 10)                110       \n",
      "                                                                 \n",
      " output (Dense)              (None, 1)                 11        \n",
      "                                                                 \n",
      "=================================================================\n",
      "Total params: 151\n",
      "Trainable params: 151\n",
      "Non-trainable params: 0\n",
      "_________________________________________________________________\n"
     ]
    }
   ],
   "source": [
    "regularized_nn.summary()"
   ]
  },
  {
   "cell_type": "code",
   "execution_count": 5,
   "metadata": {
    "id": "IhV7JUZLn6-Q"
   },
   "outputs": [],
   "source": [
    "regularized_nn.compile(optimizer=tf.keras.optimizers.SGD(learning_rate=0.1), \n",
    "                                  loss= tf.keras.losses.binary_crossentropy, \n",
    "                                  metrics=['accuracy'])"
   ]
  },
  {
   "cell_type": "code",
   "execution_count": 6,
   "metadata": {
    "colab": {
     "base_uri": "https://localhost:8080/"
    },
    "id": "5aI4THvHoZSF",
    "outputId": "d783f642-26b1-4d2d-cff2-b74698f11814"
   },
   "outputs": [
    {
     "name": "stdout",
     "output_type": "stream",
     "text": [
      "Epoch 1/200\n",
      "3/3 - 1s - loss: 0.7099 - accuracy: 0.3875 - 1s/epoch - 406ms/step\n",
      "Epoch 2/200\n",
      "3/3 - 0s - loss: 0.6702 - accuracy: 0.6875 - 13ms/epoch - 4ms/step\n",
      "Epoch 3/200\n",
      "3/3 - 0s - loss: 0.6419 - accuracy: 0.6500 - 14ms/epoch - 5ms/step\n",
      "Epoch 4/200\n",
      "3/3 - 0s - loss: 0.6140 - accuracy: 0.6500 - 13ms/epoch - 4ms/step\n",
      "Epoch 5/200\n",
      "3/3 - 0s - loss: 0.6250 - accuracy: 0.6750 - 12ms/epoch - 4ms/step\n",
      "Epoch 6/200\n",
      "3/3 - 0s - loss: 0.5819 - accuracy: 0.7000 - 13ms/epoch - 4ms/step\n",
      "Epoch 7/200\n",
      "3/3 - 0s - loss: 0.5897 - accuracy: 0.7375 - 12ms/epoch - 4ms/step\n",
      "Epoch 8/200\n",
      "3/3 - 0s - loss: 0.5737 - accuracy: 0.7500 - 13ms/epoch - 4ms/step\n",
      "Epoch 9/200\n",
      "3/3 - 0s - loss: 0.5567 - accuracy: 0.7750 - 13ms/epoch - 4ms/step\n",
      "Epoch 10/200\n",
      "3/3 - 0s - loss: 0.5574 - accuracy: 0.7750 - 11ms/epoch - 4ms/step\n",
      "Epoch 11/200\n",
      "3/3 - 0s - loss: 0.5467 - accuracy: 0.8000 - 12ms/epoch - 4ms/step\n",
      "Epoch 12/200\n",
      "3/3 - 0s - loss: 0.5129 - accuracy: 0.8125 - 11ms/epoch - 4ms/step\n",
      "Epoch 13/200\n",
      "3/3 - 0s - loss: 0.5308 - accuracy: 0.7750 - 11ms/epoch - 4ms/step\n",
      "Epoch 14/200\n",
      "3/3 - 0s - loss: 0.5305 - accuracy: 0.7625 - 10ms/epoch - 3ms/step\n",
      "Epoch 15/200\n",
      "3/3 - 0s - loss: 0.5248 - accuracy: 0.7375 - 10ms/epoch - 3ms/step\n",
      "Epoch 16/200\n",
      "3/3 - 0s - loss: 0.4967 - accuracy: 0.7875 - 12ms/epoch - 4ms/step\n",
      "Epoch 17/200\n",
      "3/3 - 0s - loss: 0.5055 - accuracy: 0.7000 - 10ms/epoch - 3ms/step\n",
      "Epoch 18/200\n",
      "3/3 - 0s - loss: 0.4712 - accuracy: 0.8000 - 12ms/epoch - 4ms/step\n",
      "Epoch 19/200\n",
      "3/3 - 0s - loss: 0.4666 - accuracy: 0.7750 - 11ms/epoch - 4ms/step\n",
      "Epoch 20/200\n",
      "3/3 - 0s - loss: 0.4536 - accuracy: 0.8000 - 10ms/epoch - 3ms/step\n",
      "Epoch 21/200\n",
      "3/3 - 0s - loss: 0.4522 - accuracy: 0.8000 - 11ms/epoch - 4ms/step\n",
      "Epoch 22/200\n",
      "3/3 - 0s - loss: 0.4405 - accuracy: 0.7875 - 12ms/epoch - 4ms/step\n",
      "Epoch 23/200\n",
      "3/3 - 0s - loss: 0.4199 - accuracy: 0.8000 - 13ms/epoch - 4ms/step\n",
      "Epoch 24/200\n",
      "3/3 - 0s - loss: 0.4281 - accuracy: 0.8375 - 12ms/epoch - 4ms/step\n",
      "Epoch 25/200\n",
      "3/3 - 0s - loss: 0.4288 - accuracy: 0.8125 - 12ms/epoch - 4ms/step\n",
      "Epoch 26/200\n",
      "3/3 - 0s - loss: 0.4115 - accuracy: 0.8375 - 10ms/epoch - 3ms/step\n",
      "Epoch 27/200\n",
      "3/3 - 0s - loss: 0.4072 - accuracy: 0.8500 - 9ms/epoch - 3ms/step\n",
      "Epoch 28/200\n",
      "3/3 - 0s - loss: 0.3787 - accuracy: 0.8375 - 9ms/epoch - 3ms/step\n",
      "Epoch 29/200\n",
      "3/3 - 0s - loss: 0.3869 - accuracy: 0.8500 - 11ms/epoch - 4ms/step\n",
      "Epoch 30/200\n",
      "3/3 - 0s - loss: 0.3605 - accuracy: 0.8375 - 12ms/epoch - 4ms/step\n",
      "Epoch 31/200\n",
      "3/3 - 0s - loss: 0.3945 - accuracy: 0.8250 - 11ms/epoch - 4ms/step\n",
      "Epoch 32/200\n",
      "3/3 - 0s - loss: 0.4063 - accuracy: 0.7875 - 14ms/epoch - 5ms/step\n",
      "Epoch 33/200\n",
      "3/3 - 0s - loss: 0.4170 - accuracy: 0.8250 - 11ms/epoch - 4ms/step\n",
      "Epoch 34/200\n",
      "3/3 - 0s - loss: 0.4251 - accuracy: 0.8250 - 11ms/epoch - 4ms/step\n",
      "Epoch 35/200\n",
      "3/3 - 0s - loss: 0.3948 - accuracy: 0.8375 - 9ms/epoch - 3ms/step\n",
      "Epoch 36/200\n",
      "3/3 - 0s - loss: 0.3717 - accuracy: 0.8500 - 9ms/epoch - 3ms/step\n",
      "Epoch 37/200\n",
      "3/3 - 0s - loss: 0.3522 - accuracy: 0.8500 - 11ms/epoch - 4ms/step\n",
      "Epoch 38/200\n",
      "3/3 - 0s - loss: 0.3800 - accuracy: 0.8625 - 13ms/epoch - 4ms/step\n",
      "Epoch 39/200\n",
      "3/3 - 0s - loss: 0.3760 - accuracy: 0.8500 - 16ms/epoch - 5ms/step\n",
      "Epoch 40/200\n",
      "3/3 - 0s - loss: 0.3639 - accuracy: 0.8750 - 15ms/epoch - 5ms/step\n",
      "Epoch 41/200\n",
      "3/3 - 0s - loss: 0.3767 - accuracy: 0.8375 - 14ms/epoch - 5ms/step\n",
      "Epoch 42/200\n",
      "3/3 - 0s - loss: 0.3357 - accuracy: 0.8500 - 15ms/epoch - 5ms/step\n",
      "Epoch 43/200\n",
      "3/3 - 0s - loss: 0.3442 - accuracy: 0.8875 - 14ms/epoch - 5ms/step\n",
      "Epoch 44/200\n",
      "3/3 - 0s - loss: 0.3785 - accuracy: 0.8500 - 14ms/epoch - 5ms/step\n",
      "Epoch 45/200\n",
      "3/3 - 0s - loss: 0.3983 - accuracy: 0.8000 - 15ms/epoch - 5ms/step\n",
      "Epoch 46/200\n",
      "3/3 - 0s - loss: 0.3824 - accuracy: 0.8625 - 15ms/epoch - 5ms/step\n",
      "Epoch 47/200\n",
      "3/3 - 0s - loss: 0.3844 - accuracy: 0.8625 - 16ms/epoch - 5ms/step\n",
      "Epoch 48/200\n",
      "3/3 - 0s - loss: 0.3396 - accuracy: 0.9125 - 13ms/epoch - 4ms/step\n",
      "Epoch 49/200\n",
      "3/3 - 0s - loss: 0.3419 - accuracy: 0.9125 - 15ms/epoch - 5ms/step\n",
      "Epoch 50/200\n",
      "3/3 - 0s - loss: 0.2752 - accuracy: 0.9500 - 15ms/epoch - 5ms/step\n",
      "Epoch 51/200\n",
      "3/3 - 0s - loss: 0.3178 - accuracy: 0.9000 - 16ms/epoch - 5ms/step\n",
      "Epoch 52/200\n",
      "3/3 - 0s - loss: 0.2949 - accuracy: 0.9375 - 15ms/epoch - 5ms/step\n",
      "Epoch 53/200\n",
      "3/3 - 0s - loss: 0.3277 - accuracy: 0.8750 - 17ms/epoch - 6ms/step\n",
      "Epoch 54/200\n",
      "3/3 - 0s - loss: 0.3199 - accuracy: 0.9375 - 13ms/epoch - 4ms/step\n",
      "Epoch 55/200\n",
      "3/3 - 0s - loss: 0.3008 - accuracy: 0.9125 - 13ms/epoch - 4ms/step\n",
      "Epoch 56/200\n",
      "3/3 - 0s - loss: 0.3296 - accuracy: 0.8875 - 12ms/epoch - 4ms/step\n",
      "Epoch 57/200\n",
      "3/3 - 0s - loss: 0.3250 - accuracy: 0.9125 - 14ms/epoch - 5ms/step\n",
      "Epoch 58/200\n",
      "3/3 - 0s - loss: 0.3367 - accuracy: 0.9000 - 17ms/epoch - 6ms/step\n",
      "Epoch 59/200\n",
      "3/3 - 0s - loss: 0.3740 - accuracy: 0.8750 - 16ms/epoch - 5ms/step\n",
      "Epoch 60/200\n",
      "3/3 - 0s - loss: 0.3530 - accuracy: 0.8875 - 15ms/epoch - 5ms/step\n",
      "Epoch 61/200\n",
      "3/3 - 0s - loss: 0.2903 - accuracy: 0.8875 - 14ms/epoch - 5ms/step\n",
      "Epoch 62/200\n",
      "3/3 - 0s - loss: 0.3487 - accuracy: 0.8875 - 16ms/epoch - 5ms/step\n",
      "Epoch 63/200\n",
      "3/3 - 0s - loss: 0.3387 - accuracy: 0.8750 - 16ms/epoch - 5ms/step\n",
      "Epoch 64/200\n",
      "3/3 - 0s - loss: 0.2706 - accuracy: 0.9250 - 15ms/epoch - 5ms/step\n",
      "Epoch 65/200\n",
      "3/3 - 0s - loss: 0.2597 - accuracy: 0.9125 - 13ms/epoch - 4ms/step\n",
      "Epoch 66/200\n",
      "3/3 - 0s - loss: 0.2852 - accuracy: 0.9125 - 18ms/epoch - 6ms/step\n",
      "Epoch 67/200\n",
      "3/3 - 0s - loss: 0.3391 - accuracy: 0.8875 - 18ms/epoch - 6ms/step\n",
      "Epoch 68/200\n",
      "3/3 - 0s - loss: 0.3078 - accuracy: 0.9375 - 18ms/epoch - 6ms/step\n",
      "Epoch 69/200\n",
      "3/3 - 0s - loss: 0.2813 - accuracy: 0.9250 - 14ms/epoch - 5ms/step\n",
      "Epoch 70/200\n",
      "3/3 - 0s - loss: 0.3347 - accuracy: 0.9000 - 16ms/epoch - 5ms/step\n",
      "Epoch 71/200\n",
      "3/3 - 0s - loss: 0.2864 - accuracy: 0.8875 - 12ms/epoch - 4ms/step\n",
      "Epoch 72/200\n",
      "3/3 - 0s - loss: 0.3500 - accuracy: 0.8875 - 12ms/epoch - 4ms/step\n",
      "Epoch 73/200\n",
      "3/3 - 0s - loss: 0.3339 - accuracy: 0.9375 - 10ms/epoch - 3ms/step\n",
      "Epoch 74/200\n",
      "3/3 - 0s - loss: 0.2971 - accuracy: 0.9250 - 12ms/epoch - 4ms/step\n",
      "Epoch 75/200\n",
      "3/3 - 0s - loss: 0.3021 - accuracy: 0.9125 - 16ms/epoch - 5ms/step\n",
      "Epoch 76/200\n",
      "3/3 - 0s - loss: 0.3023 - accuracy: 0.9000 - 13ms/epoch - 4ms/step\n",
      "Epoch 77/200\n",
      "3/3 - 0s - loss: 0.2680 - accuracy: 0.9125 - 13ms/epoch - 4ms/step\n",
      "Epoch 78/200\n",
      "3/3 - 0s - loss: 0.3068 - accuracy: 0.9125 - 13ms/epoch - 4ms/step\n",
      "Epoch 79/200\n",
      "3/3 - 0s - loss: 0.3440 - accuracy: 0.8875 - 14ms/epoch - 5ms/step\n",
      "Epoch 80/200\n",
      "3/3 - 0s - loss: 0.3090 - accuracy: 0.9000 - 14ms/epoch - 5ms/step\n",
      "Epoch 81/200\n",
      "3/3 - 0s - loss: 0.2881 - accuracy: 0.9000 - 14ms/epoch - 5ms/step\n",
      "Epoch 82/200\n",
      "3/3 - 0s - loss: 0.3069 - accuracy: 0.9125 - 12ms/epoch - 4ms/step\n",
      "Epoch 83/200\n",
      "3/3 - 0s - loss: 0.3337 - accuracy: 0.9125 - 13ms/epoch - 4ms/step\n",
      "Epoch 84/200\n",
      "3/3 - 0s - loss: 0.2835 - accuracy: 0.9000 - 12ms/epoch - 4ms/step\n",
      "Epoch 85/200\n",
      "3/3 - 0s - loss: 0.2878 - accuracy: 0.8750 - 13ms/epoch - 4ms/step\n",
      "Epoch 86/200\n",
      "3/3 - 0s - loss: 0.2978 - accuracy: 0.9250 - 11ms/epoch - 4ms/step\n",
      "Epoch 87/200\n",
      "3/3 - 0s - loss: 0.3131 - accuracy: 0.9250 - 12ms/epoch - 4ms/step\n",
      "Epoch 88/200\n",
      "3/3 - 0s - loss: 0.2995 - accuracy: 0.9250 - 13ms/epoch - 4ms/step\n",
      "Epoch 89/200\n",
      "3/3 - 0s - loss: 0.3107 - accuracy: 0.9125 - 12ms/epoch - 4ms/step\n",
      "Epoch 90/200\n",
      "3/3 - 0s - loss: 0.3302 - accuracy: 0.9250 - 13ms/epoch - 4ms/step\n",
      "Epoch 91/200\n",
      "3/3 - 0s - loss: 0.2952 - accuracy: 0.9000 - 11ms/epoch - 4ms/step\n",
      "Epoch 92/200\n",
      "3/3 - 0s - loss: 0.3033 - accuracy: 0.8875 - 13ms/epoch - 4ms/step\n",
      "Epoch 93/200\n",
      "3/3 - 0s - loss: 0.2537 - accuracy: 0.9375 - 11ms/epoch - 4ms/step\n",
      "Epoch 94/200\n",
      "3/3 - 0s - loss: 0.3038 - accuracy: 0.9250 - 11ms/epoch - 4ms/step\n",
      "Epoch 95/200\n",
      "3/3 - 0s - loss: 0.2935 - accuracy: 0.9125 - 12ms/epoch - 4ms/step\n",
      "Epoch 96/200\n",
      "3/3 - 0s - loss: 0.3181 - accuracy: 0.9125 - 11ms/epoch - 4ms/step\n",
      "Epoch 97/200\n",
      "3/3 - 0s - loss: 0.2714 - accuracy: 0.9250 - 10ms/epoch - 3ms/step\n",
      "Epoch 98/200\n",
      "3/3 - 0s - loss: 0.3085 - accuracy: 0.9125 - 12ms/epoch - 4ms/step\n",
      "Epoch 99/200\n",
      "3/3 - 0s - loss: 0.3140 - accuracy: 0.9125 - 10ms/epoch - 3ms/step\n",
      "Epoch 100/200\n",
      "3/3 - 0s - loss: 0.2797 - accuracy: 0.9500 - 10ms/epoch - 3ms/step\n",
      "Epoch 101/200\n",
      "3/3 - 0s - loss: 0.2782 - accuracy: 0.9125 - 12ms/epoch - 4ms/step\n",
      "Epoch 102/200\n",
      "3/3 - 0s - loss: 0.2601 - accuracy: 0.9375 - 11ms/epoch - 4ms/step\n",
      "Epoch 103/200\n",
      "3/3 - 0s - loss: 0.3028 - accuracy: 0.9250 - 11ms/epoch - 4ms/step\n",
      "Epoch 104/200\n",
      "3/3 - 0s - loss: 0.3087 - accuracy: 0.9375 - 13ms/epoch - 4ms/step\n",
      "Epoch 105/200\n",
      "3/3 - 0s - loss: 0.2359 - accuracy: 0.9375 - 12ms/epoch - 4ms/step\n",
      "Epoch 106/200\n",
      "3/3 - 0s - loss: 0.3189 - accuracy: 0.9000 - 11ms/epoch - 4ms/step\n",
      "Epoch 107/200\n",
      "3/3 - 0s - loss: 0.2624 - accuracy: 0.9125 - 11ms/epoch - 4ms/step\n",
      "Epoch 108/200\n",
      "3/3 - 0s - loss: 0.3058 - accuracy: 0.8875 - 11ms/epoch - 4ms/step\n",
      "Epoch 109/200\n",
      "3/3 - 0s - loss: 0.2955 - accuracy: 0.9125 - 13ms/epoch - 4ms/step\n",
      "Epoch 110/200\n",
      "3/3 - 0s - loss: 0.3095 - accuracy: 0.9125 - 12ms/epoch - 4ms/step\n",
      "Epoch 111/200\n",
      "3/3 - 0s - loss: 0.3057 - accuracy: 0.9375 - 11ms/epoch - 4ms/step\n",
      "Epoch 112/200\n",
      "3/3 - 0s - loss: 0.2942 - accuracy: 0.9125 - 11ms/epoch - 4ms/step\n",
      "Epoch 113/200\n",
      "3/3 - 0s - loss: 0.3042 - accuracy: 0.9125 - 37ms/epoch - 12ms/step\n",
      "Epoch 114/200\n",
      "3/3 - 0s - loss: 0.2922 - accuracy: 0.9125 - 14ms/epoch - 5ms/step\n",
      "Epoch 115/200\n",
      "3/3 - 0s - loss: 0.3075 - accuracy: 0.9125 - 13ms/epoch - 4ms/step\n",
      "Epoch 116/200\n",
      "3/3 - 0s - loss: 0.3166 - accuracy: 0.9000 - 11ms/epoch - 4ms/step\n",
      "Epoch 117/200\n",
      "3/3 - 0s - loss: 0.2737 - accuracy: 0.9000 - 12ms/epoch - 4ms/step\n",
      "Epoch 118/200\n",
      "3/3 - 0s - loss: 0.2643 - accuracy: 0.9250 - 10ms/epoch - 3ms/step\n",
      "Epoch 119/200\n",
      "3/3 - 0s - loss: 0.2797 - accuracy: 0.9125 - 11ms/epoch - 4ms/step\n",
      "Epoch 120/200\n",
      "3/3 - 0s - loss: 0.2610 - accuracy: 0.9375 - 12ms/epoch - 4ms/step\n",
      "Epoch 121/200\n",
      "3/3 - 0s - loss: 0.3227 - accuracy: 0.9125 - 10ms/epoch - 3ms/step\n",
      "Epoch 122/200\n",
      "3/3 - 0s - loss: 0.2939 - accuracy: 0.9125 - 11ms/epoch - 4ms/step\n",
      "Epoch 123/200\n",
      "3/3 - 0s - loss: 0.2844 - accuracy: 0.9000 - 12ms/epoch - 4ms/step\n",
      "Epoch 124/200\n",
      "3/3 - 0s - loss: 0.2926 - accuracy: 0.9250 - 12ms/epoch - 4ms/step\n",
      "Epoch 125/200\n",
      "3/3 - 0s - loss: 0.2498 - accuracy: 0.9250 - 13ms/epoch - 4ms/step\n",
      "Epoch 126/200\n",
      "3/3 - 0s - loss: 0.2816 - accuracy: 0.9125 - 11ms/epoch - 4ms/step\n",
      "Epoch 127/200\n",
      "3/3 - 0s - loss: 0.2919 - accuracy: 0.9125 - 12ms/epoch - 4ms/step\n",
      "Epoch 128/200\n",
      "3/3 - 0s - loss: 0.3140 - accuracy: 0.9125 - 12ms/epoch - 4ms/step\n",
      "Epoch 129/200\n",
      "3/3 - 0s - loss: 0.3103 - accuracy: 0.9250 - 9ms/epoch - 3ms/step\n",
      "Epoch 130/200\n",
      "3/3 - 0s - loss: 0.3088 - accuracy: 0.9250 - 11ms/epoch - 4ms/step\n",
      "Epoch 131/200\n",
      "3/3 - 0s - loss: 0.2453 - accuracy: 0.9375 - 12ms/epoch - 4ms/step\n",
      "Epoch 132/200\n",
      "3/3 - 0s - loss: 0.3238 - accuracy: 0.9125 - 12ms/epoch - 4ms/step\n",
      "Epoch 133/200\n",
      "3/3 - 0s - loss: 0.3051 - accuracy: 0.9250 - 10ms/epoch - 3ms/step\n",
      "Epoch 134/200\n",
      "3/3 - 0s - loss: 0.2822 - accuracy: 0.9250 - 12ms/epoch - 4ms/step\n",
      "Epoch 135/200\n",
      "3/3 - 0s - loss: 0.2616 - accuracy: 0.9500 - 11ms/epoch - 4ms/step\n",
      "Epoch 136/200\n",
      "3/3 - 0s - loss: 0.2974 - accuracy: 0.9125 - 11ms/epoch - 4ms/step\n",
      "Epoch 137/200\n",
      "3/3 - 0s - loss: 0.2916 - accuracy: 0.9375 - 11ms/epoch - 4ms/step\n",
      "Epoch 138/200\n",
      "3/3 - 0s - loss: 0.2741 - accuracy: 0.9125 - 9ms/epoch - 3ms/step\n",
      "Epoch 139/200\n",
      "3/3 - 0s - loss: 0.2683 - accuracy: 0.9125 - 12ms/epoch - 4ms/step\n",
      "Epoch 140/200\n",
      "3/3 - 0s - loss: 0.2525 - accuracy: 0.9250 - 12ms/epoch - 4ms/step\n",
      "Epoch 141/200\n",
      "3/3 - 0s - loss: 0.2592 - accuracy: 0.9375 - 10ms/epoch - 3ms/step\n",
      "Epoch 142/200\n",
      "3/3 - 0s - loss: 0.3079 - accuracy: 0.9250 - 12ms/epoch - 4ms/step\n",
      "Epoch 143/200\n",
      "3/3 - 0s - loss: 0.2820 - accuracy: 0.9375 - 16ms/epoch - 5ms/step\n",
      "Epoch 144/200\n",
      "3/3 - 0s - loss: 0.3079 - accuracy: 0.9000 - 11ms/epoch - 4ms/step\n",
      "Epoch 145/200\n",
      "3/3 - 0s - loss: 0.3244 - accuracy: 0.9250 - 12ms/epoch - 4ms/step\n",
      "Epoch 146/200\n",
      "3/3 - 0s - loss: 0.3052 - accuracy: 0.9375 - 11ms/epoch - 4ms/step\n",
      "Epoch 147/200\n",
      "3/3 - 0s - loss: 0.3037 - accuracy: 0.9375 - 15ms/epoch - 5ms/step\n",
      "Epoch 148/200\n",
      "3/3 - 0s - loss: 0.2576 - accuracy: 0.9375 - 22ms/epoch - 7ms/step\n",
      "Epoch 149/200\n",
      "3/3 - 0s - loss: 0.2589 - accuracy: 0.9375 - 12ms/epoch - 4ms/step\n",
      "Epoch 150/200\n",
      "3/3 - 0s - loss: 0.2664 - accuracy: 0.9375 - 15ms/epoch - 5ms/step\n",
      "Epoch 151/200\n",
      "3/3 - 0s - loss: 0.2978 - accuracy: 0.9250 - 15ms/epoch - 5ms/step\n",
      "Epoch 152/200\n",
      "3/3 - 0s - loss: 0.2739 - accuracy: 0.9250 - 11ms/epoch - 4ms/step\n",
      "Epoch 153/200\n",
      "3/3 - 0s - loss: 0.2889 - accuracy: 0.9375 - 12ms/epoch - 4ms/step\n",
      "Epoch 154/200\n",
      "3/3 - 0s - loss: 0.2940 - accuracy: 0.9000 - 14ms/epoch - 5ms/step\n",
      "Epoch 155/200\n",
      "3/3 - 0s - loss: 0.2488 - accuracy: 0.9375 - 11ms/epoch - 4ms/step\n",
      "Epoch 156/200\n",
      "3/3 - 0s - loss: 0.2634 - accuracy: 0.9250 - 12ms/epoch - 4ms/step\n",
      "Epoch 157/200\n",
      "3/3 - 0s - loss: 0.2728 - accuracy: 0.9125 - 10ms/epoch - 3ms/step\n",
      "Epoch 158/200\n",
      "3/3 - 0s - loss: 0.2859 - accuracy: 0.9125 - 11ms/epoch - 4ms/step\n",
      "Epoch 159/200\n",
      "3/3 - 0s - loss: 0.3282 - accuracy: 0.9250 - 11ms/epoch - 4ms/step\n",
      "Epoch 160/200\n",
      "3/3 - 0s - loss: 0.2961 - accuracy: 0.9375 - 12ms/epoch - 4ms/step\n",
      "Epoch 161/200\n",
      "3/3 - 0s - loss: 0.2632 - accuracy: 0.9500 - 11ms/epoch - 4ms/step\n",
      "Epoch 162/200\n",
      "3/3 - 0s - loss: 0.2765 - accuracy: 0.9375 - 9ms/epoch - 3ms/step\n",
      "Epoch 163/200\n",
      "3/3 - 0s - loss: 0.2631 - accuracy: 0.9375 - 12ms/epoch - 4ms/step\n",
      "Epoch 164/200\n",
      "3/3 - 0s - loss: 0.3117 - accuracy: 0.9375 - 12ms/epoch - 4ms/step\n",
      "Epoch 165/200\n",
      "3/3 - 0s - loss: 0.2481 - accuracy: 0.9125 - 14ms/epoch - 5ms/step\n",
      "Epoch 166/200\n",
      "3/3 - 0s - loss: 0.2944 - accuracy: 0.9250 - 11ms/epoch - 4ms/step\n",
      "Epoch 167/200\n",
      "3/3 - 0s - loss: 0.2848 - accuracy: 0.9500 - 12ms/epoch - 4ms/step\n",
      "Epoch 168/200\n",
      "3/3 - 0s - loss: 0.2760 - accuracy: 0.9250 - 11ms/epoch - 4ms/step\n",
      "Epoch 169/200\n",
      "3/3 - 0s - loss: 0.2578 - accuracy: 0.9250 - 12ms/epoch - 4ms/step\n",
      "Epoch 170/200\n",
      "3/3 - 0s - loss: 0.2836 - accuracy: 0.9125 - 12ms/epoch - 4ms/step\n",
      "Epoch 171/200\n",
      "3/3 - 0s - loss: 0.2598 - accuracy: 0.9250 - 13ms/epoch - 4ms/step\n",
      "Epoch 172/200\n",
      "3/3 - 0s - loss: 0.2879 - accuracy: 0.9375 - 11ms/epoch - 4ms/step\n",
      "Epoch 173/200\n",
      "3/3 - 0s - loss: 0.2562 - accuracy: 0.9125 - 11ms/epoch - 4ms/step\n",
      "Epoch 174/200\n",
      "3/3 - 0s - loss: 0.2867 - accuracy: 0.9250 - 10ms/epoch - 3ms/step\n",
      "Epoch 175/200\n",
      "3/3 - 0s - loss: 0.2856 - accuracy: 0.9250 - 11ms/epoch - 4ms/step\n",
      "Epoch 176/200\n",
      "3/3 - 0s - loss: 0.2464 - accuracy: 0.9250 - 10ms/epoch - 3ms/step\n",
      "Epoch 177/200\n",
      "3/3 - 0s - loss: 0.2582 - accuracy: 0.9500 - 11ms/epoch - 4ms/step\n",
      "Epoch 178/200\n",
      "3/3 - 0s - loss: 0.2622 - accuracy: 0.9250 - 10ms/epoch - 3ms/step\n",
      "Epoch 179/200\n",
      "3/3 - 0s - loss: 0.2328 - accuracy: 0.9375 - 12ms/epoch - 4ms/step\n",
      "Epoch 180/200\n",
      "3/3 - 0s - loss: 0.2651 - accuracy: 0.9375 - 13ms/epoch - 4ms/step\n",
      "Epoch 181/200\n",
      "3/3 - 0s - loss: 0.2208 - accuracy: 0.9125 - 13ms/epoch - 4ms/step\n",
      "Epoch 182/200\n",
      "3/3 - 0s - loss: 0.2912 - accuracy: 0.9250 - 15ms/epoch - 5ms/step\n",
      "Epoch 183/200\n",
      "3/3 - 0s - loss: 0.2864 - accuracy: 0.9250 - 14ms/epoch - 5ms/step\n",
      "Epoch 184/200\n",
      "3/3 - 0s - loss: 0.3050 - accuracy: 0.9250 - 13ms/epoch - 4ms/step\n",
      "Epoch 185/200\n",
      "3/3 - 0s - loss: 0.2995 - accuracy: 0.9250 - 14ms/epoch - 5ms/step\n",
      "Epoch 186/200\n",
      "3/3 - 0s - loss: 0.2442 - accuracy: 0.9250 - 12ms/epoch - 4ms/step\n",
      "Epoch 187/200\n",
      "3/3 - 0s - loss: 0.2371 - accuracy: 0.9375 - 13ms/epoch - 4ms/step\n",
      "Epoch 188/200\n",
      "3/3 - 0s - loss: 0.2910 - accuracy: 0.9125 - 14ms/epoch - 5ms/step\n",
      "Epoch 189/200\n",
      "3/3 - 0s - loss: 0.3042 - accuracy: 0.9000 - 14ms/epoch - 5ms/step\n",
      "Epoch 190/200\n",
      "3/3 - 0s - loss: 0.2881 - accuracy: 0.9375 - 12ms/epoch - 4ms/step\n",
      "Epoch 191/200\n",
      "3/3 - 0s - loss: 0.2623 - accuracy: 0.9375 - 12ms/epoch - 4ms/step\n",
      "Epoch 192/200\n",
      "3/3 - 0s - loss: 0.2457 - accuracy: 0.9375 - 14ms/epoch - 5ms/step\n",
      "Epoch 193/200\n",
      "3/3 - 0s - loss: 0.2911 - accuracy: 0.9375 - 12ms/epoch - 4ms/step\n",
      "Epoch 194/200\n",
      "3/3 - 0s - loss: 0.2899 - accuracy: 0.9250 - 14ms/epoch - 5ms/step\n",
      "Epoch 195/200\n",
      "3/3 - 0s - loss: 0.2896 - accuracy: 0.9375 - 11ms/epoch - 4ms/step\n",
      "Epoch 196/200\n",
      "3/3 - 0s - loss: 0.2827 - accuracy: 0.9250 - 14ms/epoch - 5ms/step\n",
      "Epoch 197/200\n",
      "3/3 - 0s - loss: 0.2481 - accuracy: 0.9375 - 10ms/epoch - 3ms/step\n",
      "Epoch 198/200\n",
      "3/3 - 0s - loss: 0.2908 - accuracy: 0.9375 - 13ms/epoch - 4ms/step\n",
      "Epoch 199/200\n",
      "3/3 - 0s - loss: 0.2907 - accuracy: 0.9375 - 11ms/epoch - 4ms/step\n",
      "Epoch 200/200\n",
      "3/3 - 0s - loss: 0.2925 - accuracy: 0.9375 - 15ms/epoch - 5ms/step\n"
     ]
    }
   ],
   "source": [
    "history = regularized_nn.fit(X_train, y_train, epochs=200, verbose=2)"
   ]
  },
  {
   "cell_type": "code",
   "execution_count": 7,
   "metadata": {
    "colab": {
     "base_uri": "https://localhost:8080/",
     "height": 282
    },
    "id": "YBGxxT6Kow_8",
    "outputId": "7e336340-c5b0-4fd9-bcdb-28a4621255f6"
   },
   "outputs": [
    {
     "name": "stdout",
     "output_type": "stream",
     "text": [
      "9600/9600 [==============================] - 15s 2ms/step\n"
     ]
    },
    {
     "data": {
      "image/png": "[encoded data removed]",
      "text/plain": [
       "<Figure size 640x480 with 1 Axes>"
      ]
     },
     "metadata": {},
     "output_type": "display_data"
    }
   ],
   "source": [
    "plot_decision_regions(X_train, y_train, clf=regularized_nn)\n",
    "plt.show()"
   ]
  },
  {
   "cell_type": "code",
   "execution_count": 8,
   "metadata": {
    "colab": {
     "base_uri": "https://localhost:8080/"
    },
    "id": "k7L-a30klv_r",
    "outputId": "015bc6fd-1e19-49fc-d8f6-2fc35efe8798"
   },
   "outputs": [
    {
     "name": "stdout",
     "output_type": "stream",
     "text": [
      "3/3 [==============================] - 0s 3ms/step - loss: 0.2477 - accuracy: 0.9375\n"
     ]
    },
    {
     "data": {
      "text/plain": [
       "[0.24774055182933807, 0.9375]"
      ]
     },
     "execution_count": 8,
     "metadata": {},
     "output_type": "execute_result"
    }
   ],
   "source": [
    "regularized_nn.evaluate(X_train, y_train)"
   ]
  },
  {
   "cell_type": "code",
   "execution_count": 9,
   "metadata": {
    "colab": {
     "base_uri": "https://localhost:8080/"
    },
    "id": "CqRDxhYlijEt",
    "outputId": "5ab9d442-d5d6-4dab-811f-ca6a8bd72c22"
   },
   "outputs": [
    {
     "name": "stdout",
     "output_type": "stream",
     "text": [
      "3/3 [==============================] - 0s 3ms/step - loss: 0.4392 - accuracy: 0.8000\n"
     ]
    },
    {
     "data": {
      "text/plain": [
       "[0.4392459988594055, 0.800000011920929]"
      ]
     },
     "execution_count": 9,
     "metadata": {},
     "output_type": "execute_result"
    }
   ],
   "source": [
    "regularized_nn.evaluate(X_test, y_test)"
   ]
  }
 ],
 "metadata": {
  "colab": {
   "provenance": []
  },
  "kernelspec": {
   "display_name": "Python 3 (ipykernel)",
   "language": "python",
   "name": "python3"
  },
  "language_info": {
   "codemirror_mode": {
    "name": "ipython",
    "version": 3
   },
   "file_extension": ".py",
   "mimetype": "text/x-python",
   "name": "python",
   "nbconvert_exporter": "python",
   "pygments_lexer": "ipython3",
   "version": "3.8.13"
  }
 },
 "nbformat": 4,
 "nbformat_minor": 4
}
