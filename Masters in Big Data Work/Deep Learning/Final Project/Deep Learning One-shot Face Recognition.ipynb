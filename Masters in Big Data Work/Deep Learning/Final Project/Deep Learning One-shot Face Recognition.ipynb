{
 "cells": [
  {
   "attachments": {},
   "cell_type": "markdown",
   "id": "48d18840",
   "metadata": {},
   "source": [
    "# **Real time face recognition**"
   ]
  },
  {
   "attachments": {},
   "cell_type": "markdown",
   "id": "0ab14f2b",
   "metadata": {},
   "source": [
    "## 1. Install necessary dependencies "
   ]
  },
  {
   "cell_type": "code",
   "execution_count": null,
   "id": "8121c8a6",
   "metadata": {},
   "outputs": [],
   "source": [
    "#!pip install cmake\n",
    "#!!pip install dlib\n",
    "#!pip install face_recognition"
   ]
  },
  {
   "attachments": {},
   "cell_type": "markdown",
   "id": "3d2c7b28",
   "metadata": {},
   "source": [
    "## 2. Import the libraries"
   ]
  },
  {
   "cell_type": "code",
   "execution_count": 1,
   "id": "0f41bbed-05ec-4149-8b93-dcb27ffd8941",
   "metadata": {
    "tags": []
   },
   "outputs": [],
   "source": [
    "import cv2\n",
    "import face_recognition\n",
    "import os\n",
    "import numpy as np"
   ]
  },
  {
   "attachments": {},
   "cell_type": "markdown",
   "id": "33429e1d",
   "metadata": {},
   "source": [
    "## 3. Read the images uploaded and store them in an array"
   ]
  },
  {
   "cell_type": "code",
   "execution_count": null,
   "id": "a31bb4ff",
   "metadata": {},
   "outputs": [],
   "source": [
    "#Set the path to the folder containing the images\n",
    "folder_path = \"./\"  \n",
    "image_files = [f for f in os.listdir(folder_path) if f.endswith('.jpg')]\n",
    "\n",
    "\n",
    "# Initialize arrays to hold the face encodings and their names\n",
    "known_face_encodings = []\n",
    "known_face_names = []\n",
    "\n",
    "# Get a list of all the image files in the folder\n",
    "image_files = [f for f in os.listdir(folder_path) if f.endswith('.jpg')]\n"
   ]
  },
  {
   "attachments": {},
   "cell_type": "markdown",
   "id": "7329dd2c",
   "metadata": {},
   "source": [
    "## 4. Generate the face encodings with `face_recognition` library"
   ]
  },
  {
   "cell_type": "code",
   "execution_count": 2,
   "id": "1c15b823-70d4-47f7-a2c3-a52644c6277c",
   "metadata": {},
   "outputs": [],
   "source": [
    "    \n",
    "# Loop through each image file and generate face encodings\n",
    "for image_file in image_files:\n",
    "    # Load the image file\n",
    "    image_path = os.path.join(folder_path, image_file)\n",
    "    image = face_recognition.load_image_file(image_path)\n",
    "\n",
    "    # Generate the face encoding\n",
    "    face_encodings = face_recognition.face_encodings(image)\n",
    "\n",
    "    # If there's no face in the image, skip it\n",
    "    if len(face_encodings) == 0:\n",
    "        print(\"No face found in image\", image_file)\n",
    "        continue\n",
    "\n",
    "    # Get the first face encoding (assuming there's only one face in the image)\n",
    "    face_encoding = face_encodings[0]\n",
    "\n",
    "    # Get the name of the person from the image filename (assuming the filename is in the format \"name.jpg\")\n",
    "    name = os.path.splitext(image_file)[0]\n",
    "\n",
    "    # Add the face encoding and name to their respective arrays\n",
    "    known_face_encodings.append(face_encoding)\n",
    "    known_face_names.append(name)"
   ]
  },
  {
   "attachments": {},
   "cell_type": "markdown",
   "id": "11596511",
   "metadata": {},
   "source": [
    "## 5. Real time demo"
   ]
  },
  {
   "cell_type": "code",
   "execution_count": null,
   "id": "26a96f90",
   "metadata": {},
   "outputs": [],
   "source": [
    "# Get a reference to webcam #0 (the default one)\n",
    "video_capture = cv2.VideoCapture(0)\n",
    "\n",
    "# Initialize some variables\n",
    "face_locations = []\n",
    "face_encodings = []\n",
    "face_names = []\n",
    "face_probabilities = []\n",
    "process_this_frame = True\n",
    "\n",
    "while True:\n",
    "    # Grab a single frame of video\n",
    "    ret, frame = video_capture.read()\n",
    "\n",
    "    # Only process every other frame of video to save time\n",
    "    if process_this_frame:\n",
    "        # Resize frame of video to 1/4 size for faster face recognition processing\n",
    "        small_frame = cv2.resize(frame, (0, 0), fx=0.25, fy=0.25)\n",
    "\n",
    "        # Convert the image from BGR color (which OpenCV uses) to RGB color (which face_recognition uses)\n",
    "        rgb_small_frame = small_frame[:, :, ::-1]\n",
    "        \n",
    "        # Find all the faces and face encodings in the current frame of video\n",
    "        face_locations = face_recognition.face_locations(rgb_small_frame)\n",
    "        face_encodings = face_recognition.face_encodings(rgb_small_frame, face_locations)\n",
    "\n",
    "        face_names = []\n",
    "        face_probabilities = []\n",
    "        for face_encoding in face_encodings:\n",
    "            # See if the face is a match for the known face(s)\n",
    "            matches = face_recognition.compare_faces(known_face_encodings, face_encoding)\n",
    "            name = \"Unknown\"\n",
    "            probability = 0.0\n",
    "\n",
    "            # # If a match was found in known_face_encodings, just use the first one.\n",
    "            # if True in matches:\n",
    "            #     first_match_index = matches.index(True)\n",
    "            #     name = known_face_names[first_match_index]\n",
    "\n",
    "            # Or instead, use the known face with the smallest distance to the new face\n",
    "            face_distances = face_recognition.face_distance(known_face_encodings, face_encoding)\n",
    "            best_match_index = np.argmin(face_distances)\n",
    "            if matches[best_match_index]:\n",
    "                name = known_face_names[best_match_index]\n",
    "                probability = 1 - face_distances[best_match_index]\n",
    "\n",
    "            face_names.append(name)\n",
    "            face_probabilities.append(probability)\n",
    "\n",
    "    process_this_frame = not process_this_frame\n",
    "\n",
    "\n",
    "    # Display the results\n",
    "    for (top, right, bottom, left), name, probability in zip(face_locations, face_names, face_probabilities):\n",
    "        # Scale back up face locations since the frame we detected in was scaled to 1/4 size\n",
    "        top *= 4\n",
    "        right *= 4\n",
    "        bottom *= 4\n",
    "        left *= 4\n",
    "\n",
    "        # Draw a box around the face\n",
    "        cv2.rectangle(frame, (left, top), (right, bottom), (0, 0, 255), 2)\n",
    "\n",
    "        # Draw a label with a name and probability below the face\n",
    "        cv2.rectangle(frame, (left, bottom - 35), (right, bottom), (0, 0, 255), cv2.FILLED)\n",
    "        font = cv2.FONT_HERSHEY_DUPLEX\n",
    "        label = f\"{name} ({probability:.2f})\"\n",
    "        cv2.putText(frame, label, (left + 6, bottom - 6), font, 1.0, (255, 255, 255), 1)\n",
    "\n",
    "    # Display the resulting image\n",
    "    cv2.imshow('Video', frame)\n",
    "\n",
    "    # Hit 'q' on the keyboard to quit!\n",
    "    if cv2.waitKey(1) & 0xFF == ord('q'):\n",
    "        break\n",
    "\n",
    "# Release handle to the webcam\n",
    "video_capture.release()\n",
    "cv2.destroyAllWindows()"
   ]
  }
 ],
 "metadata": {
  "kernelspec": {
   "display_name": "vsenv",
   "language": "python",
   "name": "python3"
  },
  "language_info": {
   "codemirror_mode": {
    "name": "ipython",
    "version": 3
   },
   "file_extension": ".py",
   "mimetype": "text/x-python",
   "name": "python",
   "nbconvert_exporter": "python",
   "pygments_lexer": "ipython3",
   "version": "3.10.10"
  },
  "vscode": {
   "interpreter": {
    "hash": "7dddb4a7cc34ec0c4556770e230c2d10bca6eb40e7fca9974e86f9d5b063f808"
   }
  }
 },
 "nbformat": 4,
 "nbformat_minor": 5
}
