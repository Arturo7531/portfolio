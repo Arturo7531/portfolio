{
 "cells": [
  {
   "cell_type": "markdown",
   "id": "18eff7f8-f7d0-4e86-a83a-9682a157c229",
   "metadata": {},
   "source": [
    "# Python for Data Analytics 1\n",
    "## Assignment 1 - Arturo Ford Sosa"
   ]
  },
  {
   "cell_type": "markdown",
   "id": "e6e09e39-816c-4877-a609-2d0b2d159989",
   "metadata": {
    "tags": []
   },
   "source": [
    "**Setting up**"
   ]
  },
  {
   "cell_type": "code",
   "execution_count": 1,
   "id": "26674b34-9221-400e-96ed-0967280c2bff",
   "metadata": {},
   "outputs": [],
   "source": [
    "# This code opens the json file and assigns the data to a variable\n",
    "import json\n",
    "\n",
    "with open('wine.json', 'r') as file:\n",
    "    data = json.load(file)"
   ]
  },
  {
   "cell_type": "markdown",
   "id": "19b664d9-0814-4e80-8b33-854e66111348",
   "metadata": {},
   "source": [
    "**Question 1:** \n",
    "\n",
    "_How many wine reviews are included in the dataset?_"
   ]
  },
  {
   "cell_type": "code",
   "execution_count": 2,
   "id": "b93c20cb-5c73-4e21-837e-a3e3e3b5bac0",
   "metadata": {},
   "outputs": [
    {
     "name": "stdout",
     "output_type": "stream",
     "text": [
      "There are 129971 reviews included in the dataset.\n"
     ]
    }
   ],
   "source": [
    "# Checks length of file by object amount in list and prints result\n",
    "print(f\"There are {len(data)} reviews included in the dataset.\")"
   ]
  },
  {
   "cell_type": "markdown",
   "id": "19eee1ed-d394-414b-8319-3bc0b5cd5f3c",
   "metadata": {},
   "source": [
    "**Question 2:** \n",
    "\n",
    "_What's the length of the last review?_"
   ]
  },
  {
   "cell_type": "code",
   "execution_count": 3,
   "id": "99a027b1-d226-4a41-823f-5c7152e91642",
   "metadata": {},
   "outputs": [
    {
     "name": "stdout",
     "output_type": "stream",
     "text": [
      "The length of the last review is 27 words.\n"
     ]
    }
   ],
   "source": [
    "# This code creates a function that splits the description string and counts the number of words contained within with the split() method.\n",
    "# Then this value is added to the dictionary as length\n",
    "\n",
    "def add_length(data:list) -> list:\n",
    "    for rev in data:\n",
    "        rev[\"length\"] = len(rev[\"description\"].split())\n",
    "    return data\n",
    "\n",
    "data = add_length(data)\n",
    "\n",
    "print(f\"The length of the last review is {data[-1]['length']} words.\")"
   ]
  },
  {
   "cell_type": "markdown",
   "id": "7a57fbf1-01ee-40c8-aab3-ac11fa3c1f10",
   "metadata": {},
   "source": [
    "**Question 3:** \n",
    "\n",
    "_How many different countries have wines reviewed in the dataset?_"
   ]
  },
  {
   "cell_type": "code",
   "execution_count": 4,
   "id": "7e151e7c-4936-45b9-a60b-e00ec5f0d598",
   "metadata": {},
   "outputs": [
    {
     "name": "stdout",
     "output_type": "stream",
     "text": [
      "43 different countries have wines reviewed in the dataset.\n"
     ]
    }
   ],
   "source": [
    "# This code creates a function with an empty set, then adds all the countries in the json file to it.\n",
    "# Afterwards the Nonetype is filtered and the results counted to answer the amount of individual countries present.\n",
    "# Returns a list with all countries found.\n",
    "\n",
    "def create_country_list(data:list) -> list:\n",
    "    country_list = set()\n",
    "    for rev in data:\n",
    "        country_list.add(rev['country'])\n",
    "    country_list = set(filter(None, country_list))\n",
    "    return country_list\n",
    "    \n",
    "print(f\"{len(create_country_list(data))} different countries have wines reviewed in the dataset.\")"
   ]
  },
  {
   "cell_type": "markdown",
   "id": "be671bfc-a579-48a4-a6e2-445b88719f96",
   "metadata": {},
   "source": [
    "**Question 4:** \n",
    "\n",
    "_Build a dictionary with the following structure:_\n",
    "\n",
    "`{country: number of wines reviewed coming from that country}`\n"
   ]
  },
  {
   "cell_type": "code",
   "execution_count": 5,
   "id": "2b09b60a-ba04-4516-9217-a8fb43a236f9",
   "metadata": {},
   "outputs": [
    {
     "data": {
      "text/plain": [
       "{'Turkey': 90,\n",
       " 'Cyprus': 11,\n",
       " 'India': 9,\n",
       " 'Brazil': 52,\n",
       " 'New Zealand': 1419,\n",
       " 'Chile': 4472,\n",
       " 'Morocco': 28,\n",
       " 'Croatia': 73,\n",
       " 'Ukraine': 14,\n",
       " 'Portugal': 5691,\n",
       " 'Lebanon': 35,\n",
       " 'Mexico': 70,\n",
       " 'Serbia': 12,\n",
       " 'Egypt': 1,\n",
       " 'France': 22093,\n",
       " 'Peru': 16,\n",
       " 'Canada': 257,\n",
       " 'Italy': 19540,\n",
       " 'England': 74,\n",
       " 'Australia': 2329,\n",
       " 'Bosnia and Herzegovina': 2,\n",
       " 'Germany': 2165,\n",
       " 'Uruguay': 109,\n",
       " 'Slovenia': 87,\n",
       " 'Austria': 3345,\n",
       " 'Macedonia': 12,\n",
       " 'US': 54504,\n",
       " 'Romania': 120,\n",
       " 'Spain': 6645,\n",
       " 'Israel': 505,\n",
       " 'Greece': 466,\n",
       " 'Georgia': 86,\n",
       " 'Moldova': 59,\n",
       " 'Luxembourg': 6,\n",
       " 'Czech Republic': 12,\n",
       " 'South Africa': 1401,\n",
       " 'Argentina': 3800,\n",
       " 'Switzerland': 7,\n",
       " 'Armenia': 2,\n",
       " 'Hungary': 146,\n",
       " 'Slovakia': 1,\n",
       " 'China': 1,\n",
       " 'Bulgaria': 141}"
      ]
     },
     "execution_count": 5,
     "metadata": {},
     "output_type": "execute_result"
    }
   ],
   "source": [
    "# This code takes the json file data and the list of countries to evaluate as inputs\n",
    "# then obtains the amount of reviews by country and returns this info as a dictionary.\n",
    "\n",
    "def wine_reviews_by_country(data:list, country_list:list) -> dict:\n",
    "    country_revs = {}\n",
    "    for country in country_list:\n",
    "        amount = 0\n",
    "        for rev in data:\n",
    "            if rev['country'] == country:\n",
    "                amount += 1\n",
    "        country_revs[country] = amount\n",
    "    return country_revs\n",
    "\n",
    "wine_reviews_by_country(data, create_country_list(data))"
   ]
  },
  {
   "cell_type": "markdown",
   "id": "b0ece0f0-7a9e-4804-bd42-66edbebf6729",
   "metadata": {},
   "source": [
    "**Question 5:** \n",
    "\n",
    "_Build a dictionary with the following structure:_\n",
    "\n",
    "`{country: average points of wines coming from that country}`\n"
   ]
  },
  {
   "cell_type": "code",
   "execution_count": 6,
   "id": "35d11989-193e-45eb-b310-558d36d8b093",
   "metadata": {},
   "outputs": [
    {
     "data": {
      "text/plain": [
       "{'Turkey': 88.09,\n",
       " 'Cyprus': 87.18,\n",
       " 'India': 90.22,\n",
       " 'Brazil': 84.67,\n",
       " 'New Zealand': 88.3,\n",
       " 'Chile': 86.49,\n",
       " 'Morocco': 88.57,\n",
       " 'Croatia': 87.22,\n",
       " 'Ukraine': 84.07,\n",
       " 'Portugal': 88.25,\n",
       " 'Lebanon': 87.69,\n",
       " 'Mexico': 85.26,\n",
       " 'Serbia': 87.5,\n",
       " 'Egypt': 84.0,\n",
       " 'France': 88.85,\n",
       " 'Peru': 83.56,\n",
       " 'Canada': 89.37,\n",
       " 'Italy': 88.56,\n",
       " 'England': 91.58,\n",
       " 'Australia': 88.58,\n",
       " 'Bosnia and Herzegovina': 86.5,\n",
       " 'Germany': 89.85,\n",
       " 'Uruguay': 86.75,\n",
       " 'Slovenia': 88.07,\n",
       " 'Austria': 90.1,\n",
       " 'Macedonia': 86.83,\n",
       " 'US': 88.56,\n",
       " 'Romania': 86.4,\n",
       " 'Spain': 87.29,\n",
       " 'Israel': 88.47,\n",
       " 'Greece': 87.28,\n",
       " 'Georgia': 87.69,\n",
       " 'Moldova': 87.2,\n",
       " 'Luxembourg': 88.67,\n",
       " 'Czech Republic': 87.25,\n",
       " 'South Africa': 88.06,\n",
       " 'Argentina': 86.71,\n",
       " 'Switzerland': 88.57,\n",
       " 'Armenia': 87.5,\n",
       " 'Hungary': 89.19,\n",
       " 'Slovakia': 87.0,\n",
       " 'China': 89.0,\n",
       " 'Bulgaria': 87.94}"
      ]
     },
     "execution_count": 6,
     "metadata": {},
     "output_type": "execute_result"
    }
   ],
   "source": [
    "# This function takes the data from the json file and a country list to evaluate\n",
    "# then calculates the average points for wines by country, returning a dictionary.\n",
    "\n",
    "def average_points_by_country(data:list, country_list:list) -> dict:\n",
    "    country_avg_pts = {}\n",
    "    for country in country_list:\n",
    "        sum_points = 0\n",
    "        country_hits = 0\n",
    "        for rev in data:\n",
    "            if rev['country'] == country:\n",
    "                sum_points += int(rev['points'])\n",
    "                country_hits += 1  \n",
    "        avg_points = 0\n",
    "        if country_hits != 0:\n",
    "            avg_points = round(sum_points/country_hits,2)\n",
    "        country_avg_pts[country] = avg_points\n",
    "    return country_avg_pts\n",
    "\n",
    "average_points_by_country(data, create_country_list(data))"
   ]
  },
  {
   "cell_type": "markdown",
   "id": "85effc29-a9d5-42b1-883a-a2426721509a",
   "metadata": {},
   "source": [
    "**Question 6:** \n",
    "\n",
    "_What's the country that produces the wines with the highest average rating?_"
   ]
  },
  {
   "cell_type": "code",
   "execution_count": 7,
   "id": "88bfffaa-bd90-42d3-a217-63b090f62185",
   "metadata": {},
   "outputs": [
    {
     "name": "stdout",
     "output_type": "stream",
     "text": [
      "The country that produces the wines with the highest average rating is England, with a score of 91.58.\n"
     ]
    }
   ],
   "source": [
    "# This code explores the output of previously defined functions \n",
    "# to find the highest average rating for all evaluated countries and display it.\n",
    "\n",
    "country_avg_pts = average_points_by_country(data, create_country_list(data))\n",
    "highest_rating = max(country_avg_pts.values())\n",
    "highest_rating_country = max(country_avg_pts, key=country_avg_pts.get)\n",
    "print(f\"The country that produces the wines with the highest average rating is {highest_rating_country}, with a score of {highest_rating}.\")"
   ]
  },
  {
   "cell_type": "markdown",
   "id": "950b61e5-6475-4838-8fef-3d86c5c54f0e",
   "metadata": {},
   "source": [
    "**Question 7:** \n",
    "\n",
    "_Update each wine's description by adding at the end of each description the following piece of text:_\n",
    "\n",
    "`\"This is a {designation} from {country} that scored {points} points\"`\n",
    "\n",
    "_What is the resulting description of the last review?_\n"
   ]
  },
  {
   "cell_type": "code",
   "execution_count": 8,
   "id": "19149f0d-5571-4bfc-91a3-45227194165a",
   "metadata": {},
   "outputs": [
    {
     "name": "stdout",
     "output_type": "stream",
     "text": [
      "The resulting description of the last review is: \n",
      "Big, rich and off-dry, this is powered by intense spiciness and rounded texture. Lychees dominate the fruit profile, giving an opulent feel to the aftertaste. Drink now. This is a Lieu-dit Harth Cuvée Caroline from France that scored 90 points.\n"
     ]
    }
   ],
   "source": [
    "# This function obtains the wine dataset and dynamically adds a summary of the review as a last sentence to the description.\n",
    "# This function is also optimized to work with scenarios where any of the variables used contains a Nonetype.\n",
    "\n",
    "def add_generic_description(data:list) -> list:\n",
    "    data_w_generic = []\n",
    "    for rev in data:\n",
    "        designation = ''\n",
    "        country = ''\n",
    "        points = ''\n",
    "        # The first 'if' below is NOT the best way to check if the dataset has already been processed.\n",
    "        # However, I can't find a check for this that is within the scope of what we have studied in class\n",
    "        # An alternative would probably be to have another key-value pair that specifies processing, but this is not asked for in the question.\n",
    "        if rev['description'].find('that scored') != -1:\n",
    "            data_w_generic.append(rev)\n",
    "            continue\n",
    "        if rev['designation'] is None and rev['country'] is None and rev['points'] is None:\n",
    "            data_w_generic.append(rev)\n",
    "            continue\n",
    "        if rev['designation'] is not None:\n",
    "            designation = f'This is a {rev[\"designation\"]} '\n",
    "        else:\n",
    "            designation = 'This is a wine '\n",
    "        if rev['country'] is not None:\n",
    "            country = f'from {rev[\"country\"]} '\n",
    "        if rev['points'] is not None:\n",
    "            points = f'that scored {rev[\"points\"]} points'\n",
    "        rev['description'] = rev['description'] + ' ' + designation + country + points + '.'\n",
    "        data_w_generic.append(rev)\n",
    "    return data_w_generic\n",
    "\n",
    "print(f'The resulting description of the last review is: \\n{add_generic_description(data)[-1][\"description\"]}')"
   ]
  },
  {
   "cell_type": "markdown",
   "id": "31cea865-5385-41c4-859a-31fd9648ff0b",
   "metadata": {},
   "source": [
    "**Question 8:** \n",
    "\n",
    "_What's the proportion of wine tasters that have a Twitter account?_\n"
   ]
  },
  {
   "cell_type": "code",
   "execution_count": 9,
   "id": "cb48dd9f-5816-4e97-b5cb-43494f590724",
   "metadata": {},
   "outputs": [
    {
     "name": "stdout",
     "output_type": "stream",
     "text": [
      "The proportion of wine tasters that have a Twitter account is 84.21%, given that there are 16 accounts and 19 tasters.\n"
     ]
    }
   ],
   "source": [
    "# This functions receives the wine dataset as a list and outputs how many reviewers have Twitter accounts\n",
    "# Also has functionality where it only double-counts the Twitter handles of those reviewers who share their accounts.\n",
    "\n",
    "def twitter_tasters_proportion(data:list) -> str:\n",
    "    tasters_w_handles = []\n",
    "    tasters = 0\n",
    "    handles = 0\n",
    "    for rev in data:\n",
    "        if rev['taster_name'] is not None or rev['taster_twitter_handle'] is not None:\n",
    "            tasters_w_handles.append([rev['taster_name'], rev['taster_twitter_handle']])\n",
    "    tasters_w_handles = list(set(tuple(i) for i in tasters_w_handles))\n",
    "    for row in tasters_w_handles:\n",
    "        if row[0] is not None:\n",
    "            tasters += 1\n",
    "        if row[1] is not None:\n",
    "            handles += 1\n",
    "    proportion = round((handles/tasters)*100,2)\n",
    "    return f\"The proportion of wine tasters that have a Twitter account is {proportion}%, given that there are {handles} accounts and {tasters} tasters.\"\n",
    "\n",
    "print(twitter_tasters_proportion(data))"
   ]
  }
 ],
 "metadata": {
  "kernelspec": {
   "display_name": "Python 3 (ipykernel)",
   "language": "python",
   "name": "python3"
  },
  "language_info": {
   "codemirror_mode": {
    "name": "ipython",
    "version": 3
   },
   "file_extension": ".py",
   "mimetype": "text/x-python",
   "name": "python",
   "nbconvert_exporter": "python",
   "pygments_lexer": "ipython3",
   "version": "3.8.13"
  }
 },
 "nbformat": 4,
 "nbformat_minor": 5
}
